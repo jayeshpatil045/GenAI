{
 "cells": [
  {
   "cell_type": "markdown",
   "metadata": {},
   "source": [
    "'''\n",
    "\n",
    "Author: Jayesh Patil\n",
    "\n",
    "Date: 21-11-2024\n",
    "\n",
    "Title: Python program to perform Gen AI tasks Summarizing and Transforming using Gemini API\n",
    "\n",
    "'''"
   ]
  },
  {
   "cell_type": "markdown",
   "metadata": {},
   "source": [
    "Importing Libraries"
   ]
  },
  {
   "cell_type": "code",
   "execution_count": 60,
   "metadata": {},
   "outputs": [],
   "source": [
    "import os\n",
    "import csv\n",
    "import google.generativeai as genai\n",
    "from dotenv import load_dotenv"
   ]
  },
  {
   "cell_type": "markdown",
   "metadata": {},
   "source": [
    "Loading Env variable"
   ]
  },
  {
   "cell_type": "code",
   "execution_count": 61,
   "metadata": {},
   "outputs": [
    {
     "data": {
      "text/plain": [
       "True"
      ]
     },
     "execution_count": 61,
     "metadata": {},
     "output_type": "execute_result"
    }
   ],
   "source": [
    "load_dotenv()\n"
   ]
  },
  {
   "cell_type": "markdown",
   "metadata": {},
   "source": [
    "Config Gemini AI"
   ]
  },
  {
   "cell_type": "code",
   "execution_count": 62,
   "metadata": {},
   "outputs": [],
   "source": [
    "genai.configure(api_key=os.getenv('GEMINI_API_KEY'))\n"
   ]
  },
  {
   "cell_type": "code",
   "execution_count": 63,
   "metadata": {},
   "outputs": [],
   "source": [
    "generation_config = {\n",
    "  \"temperature\": 0.9,\n",
    "  \"top_p\": 0.95,\n",
    "  \"top_k\": 64,\n",
    "  \"max_output_tokens\": 8192,\n",
    "}\n",
    "\n",
    "model = genai.GenerativeModel(\n",
    "  model_name=\"gemini-1.5-flash\",\n",
    "  generation_config=generation_config,\n",
    ")"
   ]
  },
  {
   "cell_type": "code",
   "execution_count": 64,
   "metadata": {},
   "outputs": [],
   "source": [
    "def read_emails(file_path, delimiter=\"END\"):\n",
    "    \"\"\"\n",
    "    Description: \n",
    "        This function reads the email from the text file\n",
    "    Parameters:\n",
    "        file_path: Path of txt file\n",
    "        delimiter: delimiter\n",
    "    Return:\n",
    "        list: list of emails\n",
    "    \"\"\"\n",
    "    with open(file_path, 'r') as file:\n",
    "        emails = file.read().split(delimiter)\n",
    "    return [email.strip() for email in emails if email.strip()]  "
   ]
  },
  {
   "cell_type": "code",
   "execution_count": 65,
   "metadata": {},
   "outputs": [],
   "source": [
    "def extract_email_info(email):\n",
    "    \"\"\"\n",
    "    Description: \n",
    "        This Function extracts sender, receiver, and body from email\n",
    "    Parameters:\n",
    "        email\n",
    "    Return:\n",
    "        sender, receiver, and body (str)\n",
    "    \"\"\"\n",
    "    lines = email.split(\"\\n\")\n",
    "    sender = receiver = body = \"\"\n",
    "    \n",
    "    for line in lines:\n",
    "        if line.startswith(\"From:\"):\n",
    "            sender = line.split(\":\")[1].strip()\n",
    "        elif line.startswith(\"To:\"):\n",
    "            receiver = line.split(\":\")[1].strip()\n",
    "        elif not line.startswith(\"Subject:\") and not line.startswith(\"From:\") and not line.startswith(\"To:\"):\n",
    "            body += line.strip() + \" \"\n",
    "    \n",
    "    return sender, receiver, body.strip()"
   ]
  },
  {
   "cell_type": "markdown",
   "metadata": {},
   "source": [
    "Summarizing Task"
   ]
  },
  {
   "cell_type": "code",
   "execution_count": 66,
   "metadata": {},
   "outputs": [],
   "source": [
    "def summarize_email(body, chat_session):\n",
    "    \"\"\"\n",
    "    Description: \n",
    "        This Function summarizes email body using the Gemini model\n",
    "    Parameters:\n",
    "        body: body of email\n",
    "        chat_session: gemini ai chat session\n",
    "    Return:\n",
    "        response(str): summarized response\n",
    "    \"\"\"\n",
    "    response = chat_session.send_message(f\"Summarize the following email: {body}\")\n",
    "    return response.text"
   ]
  },
  {
   "cell_type": "code",
   "execution_count": 67,
   "metadata": {},
   "outputs": [],
   "source": [
    "def translate_email(text, chat_session):\n",
    "    \"\"\"\n",
    "    Description: \n",
    "        This Function translates text using the Gemini model\n",
    "    Parameters:\n",
    "        body: body of email\n",
    "        chat_session: gemini ai chat session\n",
    "    Return:\n",
    "        response(str): summarized response\n",
    "    \"\"\"\n",
    "    response = chat_session.send_message(f\"Translate the following text to Hindi: {text}\")\n",
    "    return response.text"
   ]
  },
  {
   "cell_type": "code",
   "execution_count": 68,
   "metadata": {},
   "outputs": [],
   "source": [
    "def save_to_csv(data, csv_file):\n",
    "    \"\"\"\n",
    "    Description: \n",
    "        This function save the response in csv file\n",
    "    Parameters:\n",
    "        data: data to be saved in csv\n",
    "        csv_file: csv file name/path\n",
    "    \"\"\"\n",
    "    with open(csv_file, 'w', newline='', encoding='utf-8') as file:\n",
    "        writer = csv.writer(file)\n",
    "        writer.writerow([\"Sender\", \"Receiver\", \"Summary (EN)\", \"Summary (Hindi)\"])\n",
    "        writer.writerows(data)"
   ]
  },
  {
   "cell_type": "code",
   "execution_count": 69,
   "metadata": {},
   "outputs": [],
   "source": [
    "def process_emails(file_path, csv_file, chat_session, delimiter=\"END\"):\n",
    "    \"\"\"\n",
    "    Processes emails by summarizing and translating their content, and saves results to a CSV file.\n",
    "    \n",
    "    Parameters:\n",
    "        file_path (str): Path to the email text file.\n",
    "        csv_file (str): File path for the output CSV file.\n",
    "        chat_session: A Gemini AI chat session object.\n",
    "        delimiter (str): Delimiter used to separate emails in the file.\n",
    "    \"\"\"\n",
    "    emails = read_emails(file_path, delimiter)\n",
    "    if not emails:\n",
    "        print(\"No emails to process.\")\n",
    "        return\n",
    "    \n",
    "    data = []\n",
    "    for email in emails:\n",
    "        sender, receiver, body = extract_email_info(email)\n",
    "        if body:\n",
    "            summary_en = summarize_email(body, chat_session)\n",
    "            summary_hi = translate_email(summary_en, chat_session)\n",
    "            data.append([sender, receiver, summary_en, summary_hi])\n",
    "        else:\n",
    "            print(f\"Skipped email from {sender} to {receiver} due to empty body.\")\n",
    "    \n",
    "    save_to_csv(data, csv_file)"
   ]
  },
  {
   "cell_type": "code",
   "execution_count": 70,
   "metadata": {},
   "outputs": [],
   "source": [
    "def main():\n",
    "    chat_session = model.start_chat(\n",
    "        history=[]\n",
    "    )\n",
    "    process_emails('email.txt', 'email_pro.csv', chat_session)\n",
    "\n",
    "\n",
    "if __name__ == '__main__':\n",
    "    main()"
   ]
  }
 ],
 "metadata": {
  "kernelspec": {
   "display_name": "Python 3",
   "language": "python",
   "name": "python3"
  },
  "language_info": {
   "codemirror_mode": {
    "name": "ipython",
    "version": 3
   },
   "file_extension": ".py",
   "mimetype": "text/x-python",
   "name": "python",
   "nbconvert_exporter": "python",
   "pygments_lexer": "ipython3",
   "version": "3.10.5"
  }
 },
 "nbformat": 4,
 "nbformat_minor": 2
}
